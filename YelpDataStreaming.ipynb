{
  "nbformat": 4,
  "nbformat_minor": 0,
  "metadata": {
    "colab": {
      "name": "YelpDataStreaming.ipynb",
      "provenance": [],
      "collapsed_sections": [],
      "authorship_tag": "ABX9TyNAcKlrpiHgI+PL44pvkB41",
      "include_colab_link": true
    },
    "kernelspec": {
      "name": "python3",
      "display_name": "Python 3"
    }
  },
  "cells": [
    {
      "cell_type": "markdown",
      "metadata": {
        "id": "view-in-github",
        "colab_type": "text"
      },
      "source": [
        "<a href=\"https://colab.research.google.com/github/OzanGenc/TurkishCuisineDataAnalysis/blob/main/YelpDataStreaming.ipynb\" target=\"_parent\"><img src=\"https://colab.research.google.com/assets/colab-badge.svg\" alt=\"Open In Colab\"/></a>"
      ]
    },
    {
      "cell_type": "code",
      "metadata": {
        "colab": {
          "base_uri": "https://localhost:8080/"
        },
        "id": "s5OsLNESR6VG",
        "outputId": "31a6a478-e34d-4b6d-91c5-963c3c3cbc05"
      },
      "source": [
        "pip install yelpapi"
      ],
      "execution_count": 1,
      "outputs": [
        {
          "output_type": "stream",
          "text": [
            "Collecting yelpapi\n",
            "  Downloading https://files.pythonhosted.org/packages/15/58/a13e709f0b91f91303273206ced69e06388791a9f419bdae915f7ee6af7c/yelpapi-2.4.0-py3-none-any.whl\n",
            "Requirement already satisfied: requests in /usr/local/lib/python3.6/dist-packages (from yelpapi) (2.23.0)\n",
            "Requirement already satisfied: idna<3,>=2.5 in /usr/local/lib/python3.6/dist-packages (from requests->yelpapi) (2.10)\n",
            "Requirement already satisfied: certifi>=2017.4.17 in /usr/local/lib/python3.6/dist-packages (from requests->yelpapi) (2020.11.8)\n",
            "Requirement already satisfied: chardet<4,>=3.0.2 in /usr/local/lib/python3.6/dist-packages (from requests->yelpapi) (3.0.4)\n",
            "Requirement already satisfied: urllib3!=1.25.0,!=1.25.1,<1.26,>=1.21.1 in /usr/local/lib/python3.6/dist-packages (from requests->yelpapi) (1.24.3)\n",
            "Installing collected packages: yelpapi\n",
            "Successfully installed yelpapi-2.4.0\n"
          ],
          "name": "stdout"
        }
      ]
    },
    {
      "cell_type": "code",
      "metadata": {
        "id": "_swWg5JIRp4Z"
      },
      "source": [
        "from yelpapi import YelpAPI\n",
        "import pickle"
      ],
      "execution_count": 2,
      "outputs": []
    },
    {
      "cell_type": "code",
      "metadata": {
        "id": "omUHGzreR2RK"
      },
      "source": [
        "key_dict = pickle.load( open( \"yelp_keys.p\", \"rb\" ) )\n",
        "\n",
        "client_id = key_dict['client_id']\n",
        "api_key = key_dict['api_key']"
      ],
      "execution_count": 3,
      "outputs": []
    },
    {
      "cell_type": "code",
      "metadata": {
        "id": "RMLRiFMuSRbC"
      },
      "source": [
        "yelp_api = YelpAPI(api_key)"
      ],
      "execution_count": 4,
      "outputs": []
    },
    {
      "cell_type": "code",
      "metadata": {
        "id": "iOovbgpASVAY"
      },
      "source": [
        "term = 'Turkish Cuisine'\n",
        "location = 'San Francisco, CA'\n",
        "search_limit = 5\n",
        "response = yelp_api.search_query(term = term,\n",
        "                                 location = location,\n",
        "                                 limit = search_limit)\n"
      ],
      "execution_count": 5,
      "outputs": []
    },
    {
      "cell_type": "code",
      "metadata": {
        "id": "FNk9Wu17YqV-"
      },
      "source": [
        "pickle.dump( response, open( \"yelp_restaurants_streamed.p\", \"wb\" ) )"
      ],
      "execution_count": 6,
      "outputs": []
    },
    {
      "cell_type": "code",
      "metadata": {
        "colab": {
          "base_uri": "https://localhost:8080/"
        },
        "id": "ZRqo5bgNSay0",
        "outputId": "f7e788b6-8af5-4d4e-d077-51bd079725bf"
      },
      "source": [
        "response"
      ],
      "execution_count": 7,
      "outputs": [
        {
          "output_type": "execute_result",
          "data": {
            "text/plain": [
              "{'businesses': [{'alias': 'mivan-mediterranean-cuisine-burlingame',\n",
              "   'categories': [{'alias': 'greek', 'title': 'Greek'},\n",
              "    {'alias': 'mediterranean', 'title': 'Mediterranean'},\n",
              "    {'alias': 'turkish', 'title': 'Turkish'}],\n",
              "   'coordinates': {'latitude': 37.58579, 'longitude': -122.3651693},\n",
              "   'display_phone': '(650) 342-9944',\n",
              "   'distance': 20438.960937557866,\n",
              "   'id': '6N8CKxi-O4wtKg2YcjOBfQ',\n",
              "   'image_url': 'https://s3-media3.fl.yelpcdn.com/bphoto/TJGwSTIceavkpncktHDMOg/o.jpg',\n",
              "   'is_closed': False,\n",
              "   'location': {'address1': '1232 Broadway',\n",
              "    'address2': '',\n",
              "    'address3': '',\n",
              "    'city': 'Burlingame',\n",
              "    'country': 'US',\n",
              "    'display_address': ['1232 Broadway', 'Burlingame, CA 94010'],\n",
              "    'state': 'CA',\n",
              "    'zip_code': '94010'},\n",
              "   'name': 'Mivan Mediterranean Cuisine',\n",
              "   'phone': '+16503429944',\n",
              "   'price': '$$',\n",
              "   'rating': 4.0,\n",
              "   'review_count': 199,\n",
              "   'transactions': ['delivery'],\n",
              "   'url': 'https://www.yelp.com/biz/mivan-mediterranean-cuisine-burlingame?adjust_creative=DRPCoOoddkFl6Mz1fMNYbg&utm_campaign=yelp_api_v3&utm_medium=api_v3_business_search&utm_source=DRPCoOoddkFl6Mz1fMNYbg'},\n",
              "  {'alias': 'a-la-turca-restaurant-san-francisco-3',\n",
              "   'categories': [{'alias': 'turkish', 'title': 'Turkish'}],\n",
              "   'coordinates': {'latitude': 37.78597, 'longitude': -122.41759},\n",
              "   'display_phone': '(415) 345-1011',\n",
              "   'distance': 3249.1311568000788,\n",
              "   'id': '2PRgMkqX2dRrcuaJEi_1Rg',\n",
              "   'image_url': 'https://s3-media4.fl.yelpcdn.com/bphoto/rxwAYyxuIRNKDf8Rx016Dw/o.jpg',\n",
              "   'is_closed': False,\n",
              "   'location': {'address1': '869 Geary St',\n",
              "    'address2': '',\n",
              "    'address3': '',\n",
              "    'city': 'San Francisco',\n",
              "    'country': 'US',\n",
              "    'display_address': ['869 Geary St', 'San Francisco, CA 94109'],\n",
              "    'state': 'CA',\n",
              "    'zip_code': '94109'},\n",
              "   'name': 'A La Turca Restaurant',\n",
              "   'phone': '+14153451011',\n",
              "   'price': '$$',\n",
              "   'rating': 4.0,\n",
              "   'review_count': 816,\n",
              "   'transactions': ['pickup', 'delivery'],\n",
              "   'url': 'https://www.yelp.com/biz/a-la-turca-restaurant-san-francisco-3?adjust_creative=DRPCoOoddkFl6Mz1fMNYbg&utm_campaign=yelp_api_v3&utm_medium=api_v3_business_search&utm_source=DRPCoOoddkFl6Mz1fMNYbg'},\n",
              "  {'alias': 'tuba-authentic-turkish-restaurant-san-francisco',\n",
              "   'categories': [{'alias': 'mediterranean', 'title': 'Mediterranean'},\n",
              "    {'alias': 'turkish', 'title': 'Turkish'}],\n",
              "   'coordinates': {'latitude': 37.754898, 'longitude': -122.422906},\n",
              "   'display_phone': '(415) 826-8822',\n",
              "   'distance': 1361.904040975519,\n",
              "   'id': 'bH8FgQYhxkj5qQ4wL7vPFA',\n",
              "   'image_url': 'https://s3-media1.fl.yelpcdn.com/bphoto/xLnGt1Xzex00DtcVS1mqBA/o.jpg',\n",
              "   'is_closed': False,\n",
              "   'location': {'address1': '1007 Guerrero St',\n",
              "    'address2': '',\n",
              "    'address3': '',\n",
              "    'city': 'San Francisco',\n",
              "    'country': 'US',\n",
              "    'display_address': ['1007 Guerrero St', 'San Francisco, CA 94110'],\n",
              "    'state': 'CA',\n",
              "    'zip_code': '94110'},\n",
              "   'name': 'Tuba Authentic Turkish Restaurant',\n",
              "   'phone': '+14158268822',\n",
              "   'price': '$$',\n",
              "   'rating': 4.5,\n",
              "   'review_count': 1050,\n",
              "   'transactions': ['pickup', 'restaurant_reservation', 'delivery'],\n",
              "   'url': 'https://www.yelp.com/biz/tuba-authentic-turkish-restaurant-san-francisco?adjust_creative=DRPCoOoddkFl6Mz1fMNYbg&utm_campaign=yelp_api_v3&utm_medium=api_v3_business_search&utm_source=DRPCoOoddkFl6Mz1fMNYbg'},\n",
              "  {'alias': 'sumac-san-francisco-4',\n",
              "   'categories': [{'alias': 'mediterranean', 'title': 'Mediterranean'},\n",
              "    {'alias': 'turkish', 'title': 'Turkish'},\n",
              "    {'alias': 'sandwiches', 'title': 'Sandwiches'}],\n",
              "   'coordinates': {'latitude': 37.799617, 'longitude': -122.417342},\n",
              "   'display_phone': '(415) 307-6141',\n",
              "   'distance': 4617.228934217233,\n",
              "   'id': '4Gc68_jXGbxD9Riy1oTlYQ',\n",
              "   'image_url': 'https://s3-media2.fl.yelpcdn.com/bphoto/2zZrzUY7E7-Uhmm5idwuVA/o.jpg',\n",
              "   'is_closed': False,\n",
              "   'location': {'address1': '1096 Union St',\n",
              "    'address2': None,\n",
              "    'address3': '',\n",
              "    'city': 'San Francisco',\n",
              "    'country': 'US',\n",
              "    'display_address': ['1096 Union St', 'San Francisco, CA 94133'],\n",
              "    'state': 'CA',\n",
              "    'zip_code': '94133'},\n",
              "   'name': 'Sumac',\n",
              "   'phone': '+14153076141',\n",
              "   'price': '$$',\n",
              "   'rating': 5.0,\n",
              "   'review_count': 101,\n",
              "   'transactions': ['pickup', 'delivery'],\n",
              "   'url': 'https://www.yelp.com/biz/sumac-san-francisco-4?adjust_creative=DRPCoOoddkFl6Mz1fMNYbg&utm_campaign=yelp_api_v3&utm_medium=api_v3_business_search&utm_source=DRPCoOoddkFl6Mz1fMNYbg'},\n",
              "  {'alias': 'shish-ke-baba-san-francisco',\n",
              "   'categories': [{'alias': 'kebab', 'title': 'Kebab'},\n",
              "    {'alias': 'turkish', 'title': 'Turkish'},\n",
              "    {'alias': 'mediterranean', 'title': 'Mediterranean'}],\n",
              "   'coordinates': {'latitude': 37.742213, 'longitude': -122.423143},\n",
              "   'display_phone': '(415) 926-8955',\n",
              "   'distance': 2384.166462568815,\n",
              "   'id': 'RGeS1J38e5PmDOiGS-7bOA',\n",
              "   'image_url': 'https://s3-media3.fl.yelpcdn.com/bphoto/8NQQS6AwtDgxGfxc6mWgqQ/o.jpg',\n",
              "   'is_closed': False,\n",
              "   'location': {'address1': '59 30th St',\n",
              "    'address2': '',\n",
              "    'address3': None,\n",
              "    'city': 'San Francisco',\n",
              "    'country': 'US',\n",
              "    'display_address': ['59 30th St', 'San Francisco, CA 94110'],\n",
              "    'state': 'CA',\n",
              "    'zip_code': '94110'},\n",
              "   'name': 'Shish Ke Baba',\n",
              "   'phone': '+14159268955',\n",
              "   'price': '$$',\n",
              "   'rating': 5.0,\n",
              "   'review_count': 281,\n",
              "   'transactions': ['delivery'],\n",
              "   'url': 'https://www.yelp.com/biz/shish-ke-baba-san-francisco?adjust_creative=DRPCoOoddkFl6Mz1fMNYbg&utm_campaign=yelp_api_v3&utm_medium=api_v3_business_search&utm_source=DRPCoOoddkFl6Mz1fMNYbg'}],\n",
              " 'region': {'center': {'latitude': 37.76089938976322,\n",
              "   'longitude': -122.43644714355469}},\n",
              " 'total': 41}"
            ]
          },
          "metadata": {
            "tags": []
          },
          "execution_count": 7
        }
      ]
    },
    {
      "cell_type": "code",
      "metadata": {
        "id": "AkMe-JpFSb_K"
      },
      "source": [
        ""
      ],
      "execution_count": null,
      "outputs": []
    }
  ]
}